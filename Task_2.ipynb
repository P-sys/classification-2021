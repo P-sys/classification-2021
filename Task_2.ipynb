{
  "nbformat": 4,
  "nbformat_minor": 0,
  "metadata": {
    "kernelspec": {
      "display_name": "Python 3",
      "language": "python",
      "name": "python3"
    },
    "language_info": {
      "codemirror_mode": {
        "name": "ipython",
        "version": 3
      },
      "file_extension": ".py",
      "mimetype": "text/x-python",
      "name": "python",
      "nbconvert_exporter": "python",
      "pygments_lexer": "ipython3",
      "version": "3.6.9"
    },
    "colab": {
      "name": "Task_2.ipynb",
      "provenance": [],
      "include_colab_link": true
    }
  },
  "cells": [
    {
      "cell_type": "markdown",
      "metadata": {
        "id": "view-in-github",
        "colab_type": "text"
      },
      "source": [
        "<a href=\"https://colab.research.google.com/github/P-sys/classification-2021/blob/main/Task_2.ipynb\" target=\"_parent\"><img src=\"https://colab.research.google.com/assets/colab-badge.svg\" alt=\"Open In Colab\"/></a>"
      ]
    },
    {
      "cell_type": "code",
      "metadata": {
        "id": "SXg-U7aWMYVp"
      },
      "source": [
        "import numpy as np\n",
        "import scipy as sp\n",
        "import matplotlib.pyplot as plt\n",
        "import seaborn as sns\n",
        "\n",
        "%matplotlib inline"
      ],
      "execution_count": 2,
      "outputs": []
    },
    {
      "cell_type": "markdown",
      "metadata": {
        "id": "76FP1NuQMYVt"
      },
      "source": [
        "# 1. Работа с массивами NumPy"
      ]
    },
    {
      "cell_type": "markdown",
      "metadata": {
        "id": "2fPVJI0nMYVu"
      },
      "source": [
        "**N. Все упражнения ниже нужно делать без использования циклов Python**\n",
        "\n",
        "**1.** Cоздать вектор\n",
        "\n",
        "$$(2, \\frac{2^2}{2}, \\ldots, \\frac{2^{20}}{20})$$\n",
        "\n",
        "Можно использовать функции [np.arange()](http://docs.scipy.org/doc/numpy/reference/generated/numpy.arange.html), [np.ones()](http://docs.scipy.org/doc/numpy/reference/generated/numpy.ones.html)"
      ]
    },
    {
      "cell_type": "code",
      "metadata": {
        "colab": {
          "base_uri": "https://localhost:8080/"
        },
        "id": "oG6PYKT7MYVw",
        "outputId": "927dec2f-0736-4fcb-8486-6ce55833f086"
      },
      "source": [
        "ren1 = np.arange(1, 21)\n",
        "two = np.ones(20, dtype=int) * 2\n",
        "\n",
        "mat1 = two ** ren1\n",
        "mat1 = np.divide(mat1, ren1, dtype=float)\n",
        "\n",
        "mat1"
      ],
      "execution_count": 21,
      "outputs": [
        {
          "output_type": "execute_result",
          "data": {
            "text/plain": [
              "array([2.00000000e+00, 2.00000000e+00, 2.66666667e+00, 4.00000000e+00,\n",
              "       6.40000000e+00, 1.06666667e+01, 1.82857143e+01, 3.20000000e+01,\n",
              "       5.68888889e+01, 1.02400000e+02, 1.86181818e+02, 3.41333333e+02,\n",
              "       6.30153846e+02, 1.17028571e+03, 2.18453333e+03, 4.09600000e+03,\n",
              "       7.71011765e+03, 1.45635556e+04, 2.75941053e+04, 5.24288000e+04])"
            ]
          },
          "metadata": {
            "tags": []
          },
          "execution_count": 21
        }
      ]
    },
    {
      "cell_type": "markdown",
      "metadata": {
        "id": "n8RdpkRSMYVx"
      },
      "source": [
        "**2.** Посчитать:\n",
        "\n",
        "$$\\sum\\limits_{i=0}^{5}{0.1^{3i}0.2^{4i}}$$\n"
      ]
    },
    {
      "cell_type": "code",
      "metadata": {
        "colab": {
          "base_uri": "https://localhost:8080/"
        },
        "id": "okCqzcnAMYVy",
        "outputId": "7dfc6d6d-9718-4c2f-aa1a-dada71f3f91d"
      },
      "source": [
        "i = np.arange(0, 6)\n",
        "\n",
        "mat2 = sum(0.1 ** (3 * i) * 0.2 ** (4 * i))\n",
        "\n",
        "mat2"
      ],
      "execution_count": 11,
      "outputs": [
        {
          "output_type": "execute_result",
          "data": {
            "text/plain": [
              "1.00000160000256"
            ]
          },
          "metadata": {
            "tags": []
          },
          "execution_count": 11
        }
      ]
    },
    {
      "cell_type": "markdown",
      "metadata": {
        "id": "MjCPT29oMYVy"
      },
      "source": [
        "**3.** Создать нулевую матрицу $8 \\times 8$, и заполнить её единицами в шахматном порядке."
      ]
    },
    {
      "cell_type": "code",
      "metadata": {
        "colab": {
          "base_uri": "https://localhost:8080/"
        },
        "id": "M_uQg1YrMYVz",
        "outputId": "232cdadf-5623-4afd-e956-5a404b52a9ae"
      },
      "source": [
        "mat3 = np.zeros((8,8))\n",
        "\n",
        "mat3[::2, ::2] = 1\n",
        "mat3[1::2, 1::2] = 1\n",
        "\n",
        "mat3"
      ],
      "execution_count": 30,
      "outputs": [
        {
          "output_type": "execute_result",
          "data": {
            "text/plain": [
              "array([[1., 0., 1., 0., 1., 0., 1., 0.],\n",
              "       [0., 1., 0., 1., 0., 1., 0., 1.],\n",
              "       [1., 0., 1., 0., 1., 0., 1., 0.],\n",
              "       [0., 1., 0., 1., 0., 1., 0., 1.],\n",
              "       [1., 0., 1., 0., 1., 0., 1., 0.],\n",
              "       [0., 1., 0., 1., 0., 1., 0., 1.],\n",
              "       [1., 0., 1., 0., 1., 0., 1., 0.],\n",
              "       [0., 1., 0., 1., 0., 1., 0., 1.]])"
            ]
          },
          "metadata": {
            "tags": []
          },
          "execution_count": 30
        }
      ]
    },
    {
      "cell_type": "markdown",
      "metadata": {
        "id": "IugTb9ilMYV0"
      },
      "source": [
        "**4.** Есть 5 точек в декартовой системе координат (в виде матрицы $X$ размерностью $5 \\times 2$), сконвертируйте эти точки в полярную систему координат."
      ]
    },
    {
      "cell_type": "code",
      "metadata": {
        "colab": {
          "base_uri": "https://localhost:8080/"
        },
        "id": "cCygx03XMYV0",
        "outputId": "138e4263-1c5c-41af-ca33-0888f64b4520"
      },
      "source": [
        "X = np.random.random((5, 2))\n",
        "\n",
        "x,y = X[:,0], X[:,1]\n",
        "r = np.hypot(x,y)\n",
        "t = np.arctan2(y,x)\n",
        "\n",
        "pol = np.concatenate([[r] ,[t]], axis=0).T\n",
        "\n",
        "pol"
      ],
      "execution_count": 4,
      "outputs": [
        {
          "output_type": "execute_result",
          "data": {
            "text/plain": [
              "array([[0.71045551, 0.88169089],\n",
              "       [0.65501759, 0.5787726 ],\n",
              "       [0.50173267, 0.85508325],\n",
              "       [1.03945095, 0.71404245],\n",
              "       [0.13802316, 0.25881722]])"
            ]
          },
          "metadata": {
            "tags": []
          },
          "execution_count": 4
        }
      ]
    },
    {
      "cell_type": "markdown",
      "metadata": {
        "id": "24sM8uBcMYV1"
      },
      "source": [
        "**5.** Найдите индексы максимального элемента в случайной матрице $10 \\times 10$.\n",
        "\n",
        "Cм. [np.argmax()](http://docs.scipy.org/doc/numpy/reference/generated/numpy.argmax.html)."
      ]
    },
    {
      "cell_type": "code",
      "metadata": {
        "colab": {
          "base_uri": "https://localhost:8080/"
        },
        "id": "_KDu0k2jMYV1",
        "outputId": "fc6be4df-71ff-41ef-d3af-cf2f2acaec1d"
      },
      "source": [
        "X = np.random.random((10, 10))\n",
        "\n",
        "ind = np.unravel_index(np.argmax(X, axis=None), X.shape)\n",
        "\n",
        "ind"
      ],
      "execution_count": 24,
      "outputs": [
        {
          "output_type": "execute_result",
          "data": {
            "text/plain": [
              "(2, 0)"
            ]
          },
          "metadata": {
            "tags": []
          },
          "execution_count": 24
        }
      ]
    },
    {
      "cell_type": "markdown",
      "metadata": {
        "id": "c4IEGIqhMYV2"
      },
      "source": [
        "**6.** Есть 10 точек ($X$) и ещё одна ($y$). Найти в $X$ ближайшую к $y$ точку."
      ]
    },
    {
      "cell_type": "code",
      "metadata": {
        "colab": {
          "base_uri": "https://localhost:8080/"
        },
        "id": "HT1AMliNMYV3",
        "outputId": "817e1da1-4fe4-4e04-ae2f-4069187b33a7"
      },
      "source": [
        "X = np.random.random((10, 2))\n",
        "y = np.random.random((1, 2))\n",
        "\n",
        "dist = np.sqrt((X[:, 0] - y.item(0))**2 + (X[:, 1] - y.item(1))**2)\n",
        "\n",
        "X[np.argmin(dist)]"
      ],
      "execution_count": 47,
      "outputs": [
        {
          "output_type": "execute_result",
          "data": {
            "text/plain": [
              "array([0.42598593, 0.43490986])"
            ]
          },
          "metadata": {
            "tags": []
          },
          "execution_count": 47
        }
      ]
    },
    {
      "cell_type": "markdown",
      "metadata": {
        "id": "qdvM8nNtMYV5"
      },
      "source": [
        "**7.** Дана функция:\n",
        "\n",
        "$$\n",
        " \\begin{cases}\n",
        "    x^2 + 2x + 6, & x < 0  \\\\\n",
        "    x + 6, & 0 \\le x \\le 2 \\\\\n",
        "    x^2 + 4x - 4, & x \\ge 2\n",
        " \\end{cases}\n",
        "$$\n",
        "\n",
        "Постройте массив из её значений на  $-3 \\le x \\le 3$."
      ]
    },
    {
      "cell_type": "code",
      "metadata": {
        "colab": {
          "base_uri": "https://localhost:8080/"
        },
        "id": "zSsvdABcMYV6",
        "outputId": "1103fbc1-0a5b-4764-d324-914d7c0e7cf9"
      },
      "source": [
        "x = np.linspace(-3, 3, 100)\n",
        "(x ** 2 + 2 * x + 6) * (x < 0) + (x + 6) * ((x >= 0) & (x <= 2)) + (x ** 2 + 4 * x - 4) * (x >= 2)"
      ],
      "execution_count": 29,
      "outputs": [
        {
          "output_type": "execute_result",
          "data": {
            "text/plain": [
              "array([ 9.        ,  8.76124885,  8.52984389,  8.30578512,  8.08907254,\n",
              "        7.87970615,  7.67768595,  7.48301194,  7.29568411,  7.11570248,\n",
              "        6.94306703,  6.77777778,  6.61983471,  6.46923783,  6.32598714,\n",
              "        6.19008264,  6.06152433,  5.94031221,  5.82644628,  5.71992654,\n",
              "        5.62075298,  5.52892562,  5.44444444,  5.36730946,  5.29752066,\n",
              "        5.23507805,  5.17998163,  5.1322314 ,  5.09182736,  5.05876951,\n",
              "        5.03305785,  5.01469238,  5.00367309,  5.        ,  5.00367309,\n",
              "        5.01469238,  5.03305785,  5.05876951,  5.09182736,  5.1322314 ,\n",
              "        5.17998163,  5.23507805,  5.29752066,  5.36730946,  5.44444444,\n",
              "        5.52892562,  5.62075298,  5.71992654,  5.82644628,  5.94031221,\n",
              "        6.03030303,  6.09090909,  6.15151515,  6.21212121,  6.27272727,\n",
              "        6.33333333,  6.39393939,  6.45454545,  6.51515152,  6.57575758,\n",
              "        6.63636364,  6.6969697 ,  6.75757576,  6.81818182,  6.87878788,\n",
              "        6.93939394,  7.        ,  7.06060606,  7.12121212,  7.18181818,\n",
              "        7.24242424,  7.3030303 ,  7.36363636,  7.42424242,  7.48484848,\n",
              "        7.54545455,  7.60606061,  7.66666667,  7.72727273,  7.78787879,\n",
              "        7.84848485,  7.90909091,  7.96969697,  8.24334252,  8.73553719,\n",
              "        9.23507805,  9.74196511, 10.25619835, 10.77777778, 11.3067034 ,\n",
              "       11.84297521, 12.3865932 , 12.93755739, 13.49586777, 14.06152433,\n",
              "       14.63452709, 15.21487603, 15.80257117, 16.39761249, 17.        ])"
            ]
          },
          "metadata": {
            "tags": []
          },
          "execution_count": 29
        }
      ]
    },
    {
      "cell_type": "markdown",
      "metadata": {
        "id": "9wlMM5hIMYV9"
      },
      "source": [
        "**8.** Из каждого элемента матрицы вычесть среднее арифметическое от всех элементов в соответствующей строке (после чего среднее значение каждой строки должно равняться нулю).\n",
        "\n",
        "Cм. [np.mean()](http://docs.scipy.org/doc/numpy/reference/generated/numpy.mean.html)."
      ]
    },
    {
      "cell_type": "code",
      "metadata": {
        "colab": {
          "base_uri": "https://localhost:8080/"
        },
        "id": "BYlyx8P2MYV-",
        "outputId": "f535541e-346a-4eef-bde6-34de8df86db6"
      },
      "source": [
        "X = np.random.random((10, 10))\n",
        "\n",
        "means = np.reshape(np.mean(X, axis=1), (-1, 1))\n",
        "\n",
        "mat8 = X - means\n",
        "\n",
        "np.mean(mat8, axis=1)"
      ],
      "execution_count": 31,
      "outputs": [
        {
          "output_type": "execute_result",
          "data": {
            "text/plain": [
              "array([-8.88178420e-17,  1.11022302e-17,  2.22044605e-17, -1.11022302e-17,\n",
              "       -3.33066907e-17, -5.55111512e-17,  3.33066907e-17, -4.44089210e-17,\n",
              "        8.88178420e-17,  1.11022302e-17])"
            ]
          },
          "metadata": {
            "tags": []
          },
          "execution_count": 31
        }
      ]
    },
    {
      "cell_type": "markdown",
      "metadata": {
        "id": "HVIzktIdMYWA"
      },
      "source": [
        "**9.** Есть массив из 1000 чисел, полученных из генератора случайных чисел, имеющий нормальное распределение. Посчитайте выборочное среднее и выборочную дисперсию. "
      ]
    },
    {
      "cell_type": "code",
      "metadata": {
        "colab": {
          "base_uri": "https://localhost:8080/"
        },
        "id": "30t_KIxTMYWC",
        "outputId": "e9e72e34-3309-4773-e500-bbe91fe52c34"
      },
      "source": [
        "X = np.random.normal(loc=5, scale=2., size=1000)\n",
        "\n",
        "print(f\"Выборочное среднее {np.mean(X)}\")\n",
        "print(f\"Выборочная дисперсия {np.var(X)}\")"
      ],
      "execution_count": 36,
      "outputs": [
        {
          "output_type": "stream",
          "text": [
            "Выборочное среднее 5.026634074752936\n",
            "Выборочная дисперсия 4.152598949604627\n"
          ],
          "name": "stdout"
        }
      ]
    },
    {
      "cell_type": "markdown",
      "metadata": {
        "id": "DeZIr7JaMYWC"
      },
      "source": [
        "**10.** Создать матрицу:\n",
        "\n",
        "$$\n",
        "\\begin{pmatrix}\n",
        "0 & 1 & 2 & 3 & 4 \\\\\n",
        "1 & 2 & 3 & 4 & 0 \\\\\n",
        "2 & 3 & 4 & 0 & 1 \\\\\n",
        "3 & 4 & 0 & 1 & 2 \\\\\n",
        "4 & 0 & 1 & 2 & 3\n",
        "\\end{pmatrix}\n",
        "$$"
      ]
    },
    {
      "cell_type": "code",
      "metadata": {
        "colab": {
          "base_uri": "https://localhost:8080/"
        },
        "id": "GxNaQjWzMYWD",
        "outputId": "d5d93ec4-e164-4d53-94cb-0bfa3b9c341c"
      },
      "source": [
        "x = np.arange(5)\n",
        "y = np.expand_dims(np.arange(5), axis=1)\n",
        "mat10 = (x + y) % 5\n",
        "\n",
        "mat10"
      ],
      "execution_count": 37,
      "outputs": [
        {
          "output_type": "execute_result",
          "data": {
            "text/plain": [
              "array([[0, 1, 2, 3, 4],\n",
              "       [1, 2, 3, 4, 0],\n",
              "       [2, 3, 4, 0, 1],\n",
              "       [3, 4, 0, 1, 2],\n",
              "       [4, 0, 1, 2, 3]])"
            ]
          },
          "metadata": {
            "tags": []
          },
          "execution_count": 37
        }
      ]
    },
    {
      "cell_type": "markdown",
      "metadata": {
        "id": "8FVVGiLLMYWD"
      },
      "source": [
        "**11.** Есть следующий алгоритм семплинирования, на вход функции подается вектор из целых положительных чисел и число семплов."
      ]
    },
    {
      "cell_type": "code",
      "metadata": {
        "colab": {
          "base_uri": "https://localhost:8080/"
        },
        "id": "smdNirKRMYWE",
        "outputId": "ee39e617-090c-435a-a383-4a3b38a87fd9"
      },
      "source": [
        "def sample(x, c):\n",
        "    assert len(x) > 0\n",
        "    \n",
        "    s = np.sum(x)\n",
        "    res = []\n",
        "    for _ in range(c):\n",
        "        val = s * np.random.random()\n",
        "        cur, idx = 0, 0        \n",
        "        while cur + x[idx] <= val:\n",
        "            cur += x[idx]\n",
        "            idx += 1\n",
        "            \n",
        "        res.append(idx)\n",
        "    return res\n",
        "\n",
        "            \n",
        "sample([50, 3, 1, 7, 20], 5)    "
      ],
      "execution_count": 44,
      "outputs": [
        {
          "output_type": "execute_result",
          "data": {
            "text/plain": [
              "[0, 0, 4, 4, 0]"
            ]
          },
          "metadata": {
            "tags": []
          },
          "execution_count": 44
        }
      ]
    },
    {
      "cell_type": "markdown",
      "metadata": {
        "id": "eKEpBwq2MYWI"
      },
      "source": [
        "Реализуйте данный алгоритм более оптимальным способом, без использования циклов."
      ]
    },
    {
      "cell_type": "code",
      "metadata": {
        "colab": {
          "base_uri": "https://localhost:8080/"
        },
        "id": "CCg_Hdb8MYWI",
        "outputId": "8f4ae445-c789-4353-a1a7-c714c0e196cc"
      },
      "source": [
        "x = np.array([50, 3, 1, 7, 20])\n",
        "c = 5\n",
        "ind = np.arange(len(x))\n",
        "\n",
        "np.random.choice(ind, c, p=x/np.sum(x))"
      ],
      "execution_count": 40,
      "outputs": [
        {
          "output_type": "execute_result",
          "data": {
            "text/plain": [
              "array([4, 0, 4, 0, 0])"
            ]
          },
          "metadata": {
            "tags": []
          },
          "execution_count": 40
        }
      ]
    },
    {
      "cell_type": "code",
      "metadata": {
        "id": "PdqRnf0lAAnN"
      },
      "source": [
        ""
      ],
      "execution_count": null,
      "outputs": []
    }
  ]
}