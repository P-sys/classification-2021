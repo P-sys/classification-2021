{
  "nbformat": 4,
  "nbformat_minor": 0,
  "metadata": {
    "kernelspec": {
      "display_name": "Python 3",
      "language": "python",
      "name": "python3"
    },
    "language_info": {
      "codemirror_mode": {
        "name": "ipython",
        "version": 3
      },
      "file_extension": ".py",
      "mimetype": "text/x-python",
      "name": "python",
      "nbconvert_exporter": "python",
      "pygments_lexer": "ipython3",
      "version": "3.6.9"
    },
    "colab": {
      "name": "Task_1.ipynb",
      "provenance": []
    }
  },
  "cells": [
    {
      "cell_type": "markdown",
      "metadata": {
        "id": "MLSTCThwmVRE"
      },
      "source": [
        "# Задание 1\n",
        "\n",
        "[Свертка списка](https://ru.wikipedia.org/wiki/%D0%A1%D0%B2%D1%91%D1%80%D1%82%D0%BA%D0%B0_%D1%81%D0%BF%D0%B8%D1%81%D0%BA%D0%B0) -  это обобщенная операция над списком, c помощью которой можно преобразовать список в единое значение. Например, рассмотрим реализации свертки слева и свертки справа (левоассоциативную свертку и правоассоциативную свертку):"
      ]
    },
    {
      "cell_type": "code",
      "metadata": {
        "collapsed": true,
        "jupyter": {
          "outputs_hidden": true
        },
        "id": "gNqmI1stmVRO"
      },
      "source": [
        "def foldl(f, x0, lst):\n",
        "    if not lst:\n",
        "        return x0\n",
        "    return foldl(f, f(x0, lst[0]), lst[1:])\n",
        "\n",
        "def foldr(f, x0, lst):\n",
        "    if not lst:\n",
        "        return x0\n",
        "    return f(lst[0], foldr(f, x0, lst[1:]))"
      ],
      "execution_count": 1,
      "outputs": []
    },
    {
      "cell_type": "code",
      "metadata": {
        "colab": {
          "base_uri": "https://localhost:8080/"
        },
        "id": "KVnQDgBQmVRO",
        "outputId": "d7e5844b-63ce-4bb7-c0f8-1d241136ed07"
      },
      "source": [
        "#сумма\n",
        "foldl(lambda x, y: x + y, 0, [1, 2, 3])"
      ],
      "execution_count": 2,
      "outputs": [
        {
          "output_type": "execute_result",
          "data": {
            "text/plain": [
              "6"
            ]
          },
          "metadata": {
            "tags": []
          },
          "execution_count": 2
        }
      ]
    },
    {
      "cell_type": "code",
      "metadata": {
        "colab": {
          "base_uri": "https://localhost:8080/",
          "height": 35
        },
        "id": "OXu34weemVRQ",
        "outputId": "ef8dfc8b-2364-496e-8f7e-c2f15fb4c872"
      },
      "source": [
        "#конкатенация\n",
        "foldr(lambda x, y: '{}{}'.format(x, y), '', [1, 2, 3])"
      ],
      "execution_count": 3,
      "outputs": [
        {
          "output_type": "execute_result",
          "data": {
            "application/vnd.google.colaboratory.intrinsic+json": {
              "type": "string"
            },
            "text/plain": [
              "'123'"
            ]
          },
          "metadata": {
            "tags": []
          },
          "execution_count": 3
        }
      ]
    },
    {
      "cell_type": "code",
      "metadata": {
        "colab": {
          "base_uri": "https://localhost:8080/"
        },
        "id": "mms3HsucmVRQ",
        "outputId": "083064af-e5be-41df-ab7c-a2dc34968b23"
      },
      "source": [
        "f = lambda x, y: x / y\n",
        "foldl(f, 1, [1, 2, 3]), \\\n",
        "foldr(f, 1, [1, 2, 3])"
      ],
      "execution_count": 4,
      "outputs": [
        {
          "output_type": "execute_result",
          "data": {
            "text/plain": [
              "(0.16666666666666666, 1.5)"
            ]
          },
          "metadata": {
            "tags": []
          },
          "execution_count": 4
        }
      ]
    },
    {
      "cell_type": "markdown",
      "metadata": {
        "id": "AWb8scpxmVRR"
      },
      "source": [
        "Задача: реализовать foldl через foldr и наоборот. Вместо многоточий нужно вставить выражения, которые бы привели к нужному результату. Модифицировать сам список нельзя. "
      ]
    },
    {
      "cell_type": "code",
      "metadata": {
        "collapsed": true,
        "jupyter": {
          "outputs_hidden": true
        },
        "id": "3dwMfjzLmVRR"
      },
      "source": [
        "def foldl2(f, x0, lst):\n",
        "    return foldr(lambda seqval, acc: lambda n: acc(f(n, seqval)), lambda x: x, lst)(x0)"
      ],
      "execution_count": 5,
      "outputs": []
    },
    {
      "cell_type": "code",
      "metadata": {
        "collapsed": true,
        "jupyter": {
          "outputs_hidden": true
        },
        "id": "u0G-VXXXmVRR"
      },
      "source": [
        "def foldr2(f, x0, lst):\n",
        "    return foldl(lambda acc, seqval: lambda n: acc(f(seqval, n)), lambda x: x, lst)(x0)"
      ],
      "execution_count": 6,
      "outputs": []
    },
    {
      "cell_type": "code",
      "metadata": {
        "colab": {
          "base_uri": "https://localhost:8080/"
        },
        "id": "FqUDqKo0o09i",
        "outputId": "9c5e0338-62a6-4bfe-ebbe-faf21ffea987"
      },
      "source": [
        "#сумма\n",
        "foldl2(lambda x, y: x + y, 0, [1, 2, 3])"
      ],
      "execution_count": 7,
      "outputs": [
        {
          "output_type": "execute_result",
          "data": {
            "text/plain": [
              "6"
            ]
          },
          "metadata": {
            "tags": []
          },
          "execution_count": 7
        }
      ]
    },
    {
      "cell_type": "code",
      "metadata": {
        "colab": {
          "base_uri": "https://localhost:8080/",
          "height": 35
        },
        "id": "KkCQd9Nmo2na",
        "outputId": "d1363073-8a3a-48d5-a98e-5b3dd8214acd"
      },
      "source": [
        "#конкатенация\n",
        "foldr2(lambda x, y: '{}{}'.format(x, y), '', [1, 2, 3])"
      ],
      "execution_count": 8,
      "outputs": [
        {
          "output_type": "execute_result",
          "data": {
            "application/vnd.google.colaboratory.intrinsic+json": {
              "type": "string"
            },
            "text/plain": [
              "'123'"
            ]
          },
          "metadata": {
            "tags": []
          },
          "execution_count": 8
        }
      ]
    },
    {
      "cell_type": "code",
      "metadata": {
        "colab": {
          "base_uri": "https://localhost:8080/"
        },
        "id": "hza4PUgyo-QQ",
        "outputId": "d4ce40c1-a3e1-4495-fa53-924a240be791"
      },
      "source": [
        "f = lambda x, y: x / y\n",
        "foldl2(f, 1, [1, 2, 3]), \\\n",
        "foldr2(f, 1, [1, 2, 3])"
      ],
      "execution_count": 9,
      "outputs": [
        {
          "output_type": "execute_result",
          "data": {
            "text/plain": [
              "(0.16666666666666666, 1.5)"
            ]
          },
          "metadata": {
            "tags": []
          },
          "execution_count": 9
        }
      ]
    },
    {
      "cell_type": "markdown",
      "metadata": {
        "id": "fcrS6OwbmVRS"
      },
      "source": [
        "# Задание 2\n",
        "\n",
        "нужно написать функцию, которая принимает две строки и проверяет, входит ли хотя бы одна перестановка второй строки в первую. Например:\n",
        "\n",
        "> a = 'abcrotm'\n",
        "> \n",
        "> b = 'tro'\n",
        "\n",
        "функция def check_inv(a, b) вернет True, так как 'rot' содержится в 'abcrotm'. Нужно подумать как можно более оптимальный алгоритм и оценить его сложность. "
      ]
    },
    {
      "cell_type": "code",
      "metadata": {
        "id": "mh4iwz1TkbXf"
      },
      "source": [
        "from collections import Counter"
      ],
      "execution_count": 10,
      "outputs": []
    },
    {
      "cell_type": "code",
      "metadata": {
        "collapsed": true,
        "jupyter": {
          "outputs_hidden": true
        },
        "id": "f2YUDa8MmVRT"
      },
      "source": [
        "def check_inv(a, b):\n",
        "    counter = Counter(b)\n",
        "    len_b = len(b)\n",
        "\n",
        "    for ltr in a:\n",
        "        if counter[ltr] != 0:\n",
        "            counter[ltr] -= 1\n",
        "        else:\n",
        "            if sum(counter.values()) < len_b:\n",
        "                counter = Counter(b)\n",
        "        if sum(counter.values()) == 0:\n",
        "            return True\n",
        "    return False"
      ],
      "execution_count": 11,
      "outputs": []
    },
    {
      "cell_type": "code",
      "metadata": {
        "id": "qdqbq5xLk7q7"
      },
      "source": [
        "t_f_list = []\n",
        "a=['ertyui','lkjhgfd','tgbyhnujm']\n",
        "b=['ety','ghkj', 'tggb']\n",
        "for i in range(3):\n",
        "  t_f_list.append(check_inv(a[i],b[i]))"
      ],
      "execution_count": 12,
      "outputs": []
    },
    {
      "cell_type": "code",
      "metadata": {
        "colab": {
          "base_uri": "https://localhost:8080/"
        },
        "id": "HQOQtDeRlAyQ",
        "outputId": "7f6b07d0-e7a0-44d4-8b3b-2f970b5ad712"
      },
      "source": [
        "t_f_list"
      ],
      "execution_count": 13,
      "outputs": [
        {
          "output_type": "execute_result",
          "data": {
            "text/plain": [
              "[False, True, False]"
            ]
          },
          "metadata": {
            "tags": []
          },
          "execution_count": 13
        }
      ]
    },
    {
      "cell_type": "markdown",
      "metadata": {
        "id": "JEIlXQcBmVRT"
      },
      "source": [
        "# Задание 3\n",
        "\n",
        "Реализовать бинарное дерево (класс Tree), в нём методы __repr__, __str__, __iter__ (итерация только по листьям)."
      ]
    },
    {
      "cell_type": "code",
      "metadata": {
        "id": "ERS7ioM2mnCq"
      },
      "source": [
        "class Tree:\n",
        "    def __init__(self, value=None, left=None, right=None):\n",
        "        self.left = left\n",
        "        self.right = right\n",
        "        self.value = value\n",
        "    \n",
        "    def __iter__(self):\n",
        "        return iter(self.get_nodes()) \n",
        "    \n",
        "    def __str__(self):  \n",
        "        return \"Tree with vertex {}, left node {}, right node {}\".format(self.value, self.left.get_value(),self.right.get_value())\n",
        "    \n",
        "    def __repr__(self):\n",
        "        return \"Tree({}, {}, {})\".format(self.value, repr(self.left), repr(self.right))\n",
        "\n",
        "    def get_nodes(self):\n",
        "        if self.left is None and self.right is None:\n",
        "            return [self.value]\n",
        "        nodes = []\n",
        "        if self.left is not None:\n",
        "            nodes.extend(self.left.get_nodes())\n",
        "        if self.right is not None:\n",
        "            nodes.extend(self.right.get_nodes())\n",
        "        return nodes    \n",
        "        \n",
        "    def get_value(self):\n",
        "        return str(self.value)"
      ],
      "execution_count": 14,
      "outputs": []
    },
    {
      "cell_type": "code",
      "metadata": {
        "colab": {
          "base_uri": "https://localhost:8080/"
        },
        "id": "xnP6X2_tnqKm",
        "outputId": "c19d2b4d-25f8-4e3c-9266-3ef923110e3b"
      },
      "source": [
        "tree = Tree(0, Tree(1, Tree(3), Tree(4)), Tree(2))\n",
        "\n",
        "print(tree)\n",
        "print(repr(tree))\n",
        "print(list(tree))"
      ],
      "execution_count": 15,
      "outputs": [
        {
          "output_type": "stream",
          "text": [
            "Tree with vertex 0, left node 1, right node 2\n",
            "Tree(0, Tree(1, Tree(3, None, None), Tree(4, None, None)), Tree(2, None, None))\n",
            "[3, 4, 2]\n"
          ],
          "name": "stdout"
        }
      ]
    },
    {
      "cell_type": "markdown",
      "metadata": {
        "id": "k6ayzNpbmVRU"
      },
      "source": [
        "# Задание 4\n",
        "\n",
        "Реализовать простейший калькулятор математических выражений:\n",
        "- только целые числа\n",
        "- **+**, **\\-**, **\\***, **\\**\n",
        "- скобки\n",
        "\n",
        "**Можно использовать регулярные выражения**"
      ]
    },
    {
      "cell_type": "code",
      "metadata": {
        "id": "_UpNXz9ez-Z1"
      },
      "source": [
        "def get_polish_notation(expr):\n",
        "    notation = []\n",
        "    stack = []\n",
        "    digits = [str(x) for x in range(10)]\n",
        "\n",
        "    operators = {'(': 0, ')': 0, '+': 1, '-': 1, '*': 2, '/': 2}\n",
        "   \n",
        "    number = 0\n",
        "    number_flag = False\n",
        "    for elem in expr:\n",
        "        if elem in digits:\n",
        "            number_flag = True\n",
        "            number = number * 10 + int(elem)\n",
        "\n",
        "        else:\n",
        "            if number_flag:\n",
        "                notation.append(number)\n",
        "                number_flag = False\n",
        "                number = 0\n",
        "\n",
        "            if elem == '(':\n",
        "                stack.append(elem)\n",
        "            elif elem == ')':\n",
        "                el = stack.pop()\n",
        "                while el != '(':\n",
        "                    notation.append(el)\n",
        "                    el = stack.pop()\n",
        "\n",
        "            elif elem in operators.keys():\n",
        "                el_priority = operators[elem]\n",
        "                if not stack:\n",
        "                    el_priority_in_stack = 0\n",
        "                else:\n",
        "                    el_priority_in_stack = operators[stack[-1]]\n",
        "\n",
        "                while el_priority_in_stack >= el_priority:\n",
        "                    notation.append(stack.pop())\n",
        "                    if not stack:\n",
        "                        el_priority_in_stack = 0\n",
        "                    else:\n",
        "                        el_priority_in_stack = operators[stack[-1]]\n",
        "                stack.append(elem)\n",
        "\n",
        "    if number_flag:\n",
        "        notation.append(number)\n",
        "    while stack:\n",
        "        notation.append(stack.pop())\n",
        "    return notation"
      ],
      "execution_count": 16,
      "outputs": []
    },
    {
      "cell_type": "code",
      "metadata": {
        "colab": {
          "base_uri": "https://localhost:8080/"
        },
        "id": "bYs7rrQImVRU",
        "outputId": "7bcbda33-d293-44e0-98af-d63ad8ac5a95"
      },
      "source": [
        "def calc(expr):\n",
        "    polish_notation= get_polish_notation(expr)\n",
        "    stack = []\n",
        "    for elem in polish_notation:\n",
        "        if type(elem) == int:\n",
        "            stack.append(elem)\n",
        "        else:\n",
        "            el2=stack.pop()\n",
        "            el1=stack.pop()\n",
        "            if elem == '+':\n",
        "                stack.append(el1+el2)\n",
        "            if elem == '-':\n",
        "                stack.append(el1-el2)\n",
        "            if elem == '*':\n",
        "                stack.append(el1*el2)\n",
        "            if elem == '/':\n",
        "                stack.append(el1/el2)\n",
        "    return stack.pop()\n",
        "    \n",
        "calc('2 * (15 - 3 * 4) - 2') == 4"
      ],
      "execution_count": 17,
      "outputs": [
        {
          "output_type": "execute_result",
          "data": {
            "text/plain": [
              "True"
            ]
          },
          "metadata": {
            "tags": []
          },
          "execution_count": 17
        }
      ]
    },
    {
      "cell_type": "code",
      "metadata": {
        "collapsed": true,
        "jupyter": {
          "outputs_hidden": true
        },
        "colab": {
          "base_uri": "https://localhost:8080/"
        },
        "id": "HUziCGWxmVRU",
        "outputId": "c3f9e39d-739a-4039-a1a5-9758c0338a5a"
      },
      "source": [
        "calc('7 * 2 * (3 + 4) / 2') == 49"
      ],
      "execution_count": 18,
      "outputs": [
        {
          "output_type": "execute_result",
          "data": {
            "text/plain": [
              "True"
            ]
          },
          "metadata": {
            "tags": []
          },
          "execution_count": 18
        }
      ]
    },
    {
      "cell_type": "code",
      "metadata": {
        "colab": {
          "base_uri": "https://localhost:8080/"
        },
        "id": "iY4Ijgg8uERm",
        "outputId": "6776af81-802c-4ee1-d8b6-4c0bf7835b4b"
      },
      "source": [
        "calc('3 + (6 / 2) * 5 + 8 / 4') == 19"
      ],
      "execution_count": 19,
      "outputs": [
        {
          "output_type": "execute_result",
          "data": {
            "text/plain": [
              "False"
            ]
          },
          "metadata": {
            "tags": []
          },
          "execution_count": 19
        }
      ]
    }
  ]
}