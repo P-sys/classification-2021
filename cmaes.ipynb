{
  "nbformat": 4,
  "nbformat_minor": 0,
  "metadata": {
    "colab": {
      "name": "Untitled3.ipynb",
      "provenance": [],
      "authorship_tag": "ABX9TyM3tlva6qZxw2MJehaRUvG5",
      "include_colab_link": true
    },
    "kernelspec": {
      "name": "python3",
      "display_name": "Python 3"
    },
    "language_info": {
      "name": "python"
    },
    "accelerator": "TPU"
  },
  "cells": [
    {
      "cell_type": "markdown",
      "metadata": {
        "id": "view-in-github",
        "colab_type": "text"
      },
      "source": [
        "<a href=\"https://colab.research.google.com/github/P-sys/classification-2021/blob/main/cmaes.ipynb\" target=\"_parent\"><img src=\"https://colab.research.google.com/assets/colab-badge.svg\" alt=\"Open In Colab\"/></a>"
      ]
    },
    {
      "cell_type": "code",
      "metadata": {
        "colab": {
          "base_uri": "https://localhost:8080/"
        },
        "id": "2DoAVucRbXxe",
        "outputId": "36162fcb-75e7-4f5b-cfb6-a13db00d4692"
      },
      "source": [
        "pip install cmaes"
      ],
      "execution_count": 1,
      "outputs": [
        {
          "output_type": "stream",
          "text": [
            "Collecting cmaes\n",
            "  Downloading https://files.pythonhosted.org/packages/01/1f/43b01223a0366171f474320c6e966c39a11587287f098a5f09809b45e05f/cmaes-0.8.2-py3-none-any.whl\n",
            "Requirement already satisfied: numpy in /usr/local/lib/python3.7/dist-packages (from cmaes) (1.19.5)\n",
            "Installing collected packages: cmaes\n",
            "Successfully installed cmaes-0.8.2\n"
          ],
          "name": "stdout"
        }
      ]
    },
    {
      "cell_type": "code",
      "metadata": {
        "colab": {
          "base_uri": "https://localhost:8080/",
          "height": 1000
        },
        "id": "F6RrD8H1bUAi",
        "outputId": "cc264fff-13f0-4e4a-b135-7aa6c6b2e1d9"
      },
      "source": [
        "import numpy as np\n",
        "from math import cos, pi\n",
        "import matplotlib.pyplot as plt\n",
        "import random\n",
        "from random import randint\n",
        "from tqdm import tqdm\n",
        "import os\n",
        "\n",
        "# Directory to store data\n",
        "directory = '/Desktop/plots'\n",
        "if not os.path.exists(directory):\n",
        "  os.makedirs(directory)\n",
        "\n",
        "# Functions\n",
        "\n",
        "def rastriginFunction(x, A=10):\n",
        "\n",
        "  n = x.shape[1]\n",
        "  n_0 = x.shape[0]\n",
        "  \n",
        "  summy = np.zeros(n_0)\n",
        "  half_x = int(n_0/2)\n",
        "\n",
        "  for i in range(half_x):\n",
        "    for j in range(n):\n",
        "      x[i,j] = round(x[i, j])\n",
        "  for i in range(n):\n",
        "    summy = summy + ( x[:,i]**2 - A * np.cos(2*pi*x[:,i]) )\n",
        "\n",
        "  c = A * n\n",
        "    \n",
        "  return c + summy\n",
        "\n",
        "# CMA-ES\n",
        "class CMA_ES:\n",
        "\n",
        "    def __init__(self):\n",
        "\n",
        "        # Initialize mean and standard deviation\n",
        "        self.theta_mean = np.random.uniform(min_val, max_val, (dim_theta))\n",
        "\n",
        "        theta_std = np.random.uniform(max_val-1, max_val, (dim_theta))\n",
        "        self.theta_cov = np.diag(theta_std)\n",
        "\n",
        "        self.n_samples = n_samples\n",
        "        self.t = n_iterations\n",
        "        self.top_p = top_p\n",
        "        self.fit_gaussian()\n",
        "\n",
        "    def fit_gaussian(self):\n",
        "        # theta is actually the population sampled from the distribution\n",
        "        theta = np.random.multivariate_normal(self.theta_mean, self.theta_cov, (n_samples))\n",
        "        self.theta = np.clip(theta, min_val, max_val)\n",
        "\n",
        "    def generation(self):\n",
        "        # Sample n_sample candidates from N(theta)\n",
        "        mean_fitness = []\n",
        "        best_fitness = []\n",
        "        worst_fitness = []\n",
        "\n",
        "        for i in tqdm(range(0, self.t)):\n",
        "            fitness = self.evaluate_fitness(self.theta)\n",
        "\n",
        "            mean_fitness.append(np.mean(fitness))\n",
        "            best_fitness.append(np.min(fitness))\n",
        "            worst_fitness .append(np.max(fitness))\n",
        "\n",
        "            couple = list(zip(self.theta, fitness.T))\n",
        "            sorted_fitness= sorted(couple, key=lambda tup: tup[1])\n",
        "            elite = self.take_elite(sorted_fitness)\n",
        "            \n",
        "            e_candidates = [i[0] for i in elite]\n",
        "\n",
        "            plt.pause(pause)\n",
        "            self.theta_cov = self.compute_new_cov(e_candidates)\n",
        "            self.theta_mean = self.compute_new_mean(e_candidates)\n",
        "            self.fit_gaussian()\n",
        "\n",
        "        \n",
        "        plt.plot(mean_fitness)\n",
        "        plt.show()\n",
        "\n",
        "        return mean_fitness, best_fitness, worst_fitness     \n",
        "\n",
        "    def take_elite(self, candidates):\n",
        "        n_top = int((self.n_samples * self.top_p)/ 100)\n",
        "        elite = candidates[:n_top]\n",
        "        return elite\n",
        "\n",
        "    def compute_new_mean(self, e_candidates):\n",
        "        \n",
        "        new_means = np.mean(e_candidates, axis=0)\n",
        "        return new_means\n",
        "\n",
        "    def compute_new_cov(self, e_candidates):\n",
        "        e_candidates = np.array(e_candidates)\n",
        "        I = np.identity(dim_theta)\n",
        "        cov = np.zeros((dim_theta, dim_theta))\n",
        "        for i in range(dim_theta):\n",
        "            for j in range(dim_theta):\n",
        "                cov[i,j] = np.sum(((e_candidates[:,i] - self.theta_mean[i]) * (e_candidates[:,j] - self.theta_mean[j])), axis=0)\n",
        "\n",
        "        return 1/e_candidates.shape[0] * cov + I * 1e-3\n",
        "\n",
        "    def evaluate_fitness(self, candidates):\n",
        "      \n",
        "      return rastriginFunction(candidates)\n",
        "\n",
        "# Run the desired algorithm and return the data\n",
        "def run():\n",
        "  cma = CMA_ES()\n",
        "  m, b, w = cma.generation()\n",
        "  \n",
        "  return m, b, w\n",
        "\n",
        "\n",
        "# number of dimensions\n",
        "dim_theta = 1000\n",
        "\n",
        "# Population Size\n",
        "n_samples = 3000\n",
        "\n",
        "# Elite ratio percentage\n",
        "top_p = 20\n",
        "\n",
        "# Number of Generations\n",
        "n_iterations = 300\n",
        "\n",
        "# Range of values\n",
        "min_val = -5.12\n",
        "max_val = 5.12\n",
        "\n",
        "# Number of Runs\n",
        "runs = 3\n",
        "\n",
        "# Plot output frequency\n",
        "pause = 0.01\n",
        "\n",
        "mean = []\n",
        "best = []\n",
        "worst = []\n",
        "\n",
        "# Run the algorithm runs times and save the results\n",
        "for i in range(runs):\n",
        "    m, b, w = run()\n",
        "    mean.append(m)\n",
        "    best.append(b)\n",
        "    worst.append(w)\n",
        "\n",
        "# Compute the mean over the runs\n",
        "mean_3 = np.mean(mean, axis=0)\n",
        "best_3 = np.mean(best, axis=0)\n",
        "worst_3 = np.mean(worst, axis=0)\n",
        "\n",
        "print('Best result:{}'.format(np.min(best_3)))\n",
        "\n",
        "# Plot the data\n",
        "plt.plot(mean_3, label='mean')\n",
        "plt.plot(best_3, 'g', label='best')\n",
        "plt.plot(worst_3, 'r', label='worst')\n",
        "plt.legend(loc='upper right')\n",
        "plt.show()\n",
        "\n",
        "# np.save(directory + \"/\" + \"cma_es_mean\"  + \"_\" + str(dim_theta) + \"_\" + str(n_samples) + \"_\" + str(n_iterations) + \"_\" + str(top_p) + \"_\" + str(alpha), mean_3)\n",
        "# np.save(directory + \"/\" + algorithm + \"_\" + \"best\" + \"_\" + str(dim_theta) + \"_\" + str(n_samples) + \"_\" + str(n_iterations) + \"_\" + str(top_p) + \"_\" + str(alpha), best_3)\n",
        "# np.save(directory + \"/\" + algorithm + \"_\" + \"worst\" + \"_\" + str(dim_theta) + \"_\" + str(n_samples) + \"_\" + str(n_iterations) + \"_\" + str(top_p) + \"_\" + str(alpha), worst_3)"
      ],
      "execution_count": 2,
      "outputs": [
        {
          "output_type": "stream",
          "text": [
            "100%|██████████| 300/300 [1:28:17<00:00, 17.66s/it]\n"
          ],
          "name": "stderr"
        },
        {
          "output_type": "display_data",
          "data": {
            "image/png": "[encoded data removed]",
            "text/plain": [
              "<Figure size 432x288 with 1 Axes>"
            ]
          },
          "metadata": {
            "tags": [],
            "needs_background": "light"
          }
        },
        {
          "output_type": "stream",
          "text": [
            "100%|██████████| 300/300 [1:28:12<00:00, 17.64s/it]\n"
          ],
          "name": "stderr"
        },
        {
          "output_type": "display_data",
          "data": {
            "image/png": "[encoded data removed]",
            "text/plain": [
              "<Figure size 432x288 with 1 Axes>"
            ]
          },
          "metadata": {
            "tags": [],
            "needs_background": "light"
          }
        },
        {
          "output_type": "stream",
          "text": [
            "100%|██████████| 300/300 [1:28:30<00:00, 17.70s/it]\n"
          ],
          "name": "stderr"
        },
        {
          "output_type": "display_data",
          "data": {
            "image/png": "[encoded data removed]",
            "text/plain": [
              "<Figure size 432x288 with 1 Axes>"
            ]
          },
          "metadata": {
            "tags": [],
            "needs_background": "light"
          }
        },
        {
          "output_type": "stream",
          "text": [
            "Best result:615.0\n"
          ],
          "name": "stdout"
        },
        {
          "output_type": "display_data",
          "data": {
            "image/png": "[encoded data removed]",
            "text/plain": [
              "<Figure size 432x288 with 1 Axes>"
            ]
          },
          "metadata": {
            "tags": [],
            "needs_background": "light"
          }
        }
      ]
    },
    {
      "cell_type": "code",
      "metadata": {
        "id": "pkKjoYbQfDUe"
      },
      "source": [
        ""
      ],
      "execution_count": null,
      "outputs": []
    }
  ]
}