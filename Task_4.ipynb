{
  "nbformat": 4,
  "nbformat_minor": 0,
  "metadata": {
    "colab": {
      "name": "Task_4.ipynb",
      "provenance": [],
      "authorship_tag": "ABX9TyMdhp5XMfzd8X8qbV59vTKv"
    },
    "kernelspec": {
      "name": "python3",
      "display_name": "Python 3"
    },
    "language_info": {
      "name": "python"
    }
  },
  "cells": [
    {
      "cell_type": "markdown",
      "metadata": {
        "id": "UwGDYX2_SINS"
      },
      "source": [
        "# Линейная регрессия"
      ]
    },
    {
      "cell_type": "markdown",
      "metadata": {
        "id": "dEA2YMq5SNNg"
      },
      "source": [
        "Данные содержатся в файле `data/lin_reg.txt`. Прочитать их можно следующим так:"
      ]
    },
    {
      "cell_type": "markdown",
      "metadata": {
        "id": "sPah3QeESN-b"
      },
      "source": [
        "При выполнении заданий **нельзя** пользоваться `scikit-learn` и т.п., только `NumPy`/`JAX`/`TF`/`PyTorch` и `matplotlib`/`seaborn`/`plotly`/etc.\n",
        "\n",
        "1. Нарисуйте график среднеквадратичной ошибки в зависимости от параметра регуляризации $\\alpha$, используя полные данные для обучения и для тестирования. \n",
        "2. Подготовьте исходные данные для 5 fold CV.\n",
        "3. С помощью CV найдите оптимальное значение $\\alpha$ на какой-нибудь сетке значений.\n",
        "4. Постройте валидационную кривую. \n",
        "5. Постройте кривую обучения."
      ]
    },
    {
      "cell_type": "code",
      "metadata": {
        "id": "-tyKmkgXSNje"
      },
      "source": [
        "import pandas as pd\n",
        "\n",
        "import numpy as np\n",
        "\n",
        "import matplotlib.pyplot as plt"
      ],
      "execution_count": 1,
      "outputs": []
    },
    {
      "cell_type": "code",
      "metadata": {
        "id": "1T2nKnsPSWS2"
      },
      "source": [
        "import numpy as np\n",
        "D = np.loadtxt('../data/lin_reg.txt', delimiter=',')\n",
        "X = D[:, :-1]\n",
        "Y = D[:, -1]"
      ],
      "execution_count": 2,
      "outputs": []
    },
    {
      "cell_type": "markdown",
      "metadata": {
        "id": "Vn2d2wAwSf5a"
      },
      "source": [
        "1.Нарисуйте график среднеквадратичной ошибки в зависимости от параметра регуляризации $\\alpha$, используя полные данные для обучения и для тестирования. "
      ]
    },
    {
      "cell_type": "code",
      "metadata": {
        "colab": {
          "base_uri": "https://localhost:8080/",
          "height": 204
        },
        "id": "D5q-wgtZSYLv",
        "outputId": "2a71e3a8-4f5f-40a0-915b-b992ee92d5a8"
      },
      "source": [
        "X = (X - X.min(axis=0)) / (X.max(axis=0) - X.min(axis=0))\n",
        "pd.DataFrame(X).head()"
      ],
      "execution_count": 3,
      "outputs": [
        {
          "output_type": "execute_result",
          "data": {
            "text/html": [
              "<div>\n",
              "<style scoped>\n",
              "    .dataframe tbody tr th:only-of-type {\n",
              "        vertical-align: middle;\n",
              "    }\n",
              "\n",
              "    .dataframe tbody tr th {\n",
              "        vertical-align: top;\n",
              "    }\n",
              "\n",
              "    .dataframe thead th {\n",
              "        text-align: right;\n",
              "    }\n",
              "</style>\n",
              "<table border=\"1\" class=\"dataframe\">\n",
              "  <thead>\n",
              "    <tr style=\"text-align: right;\">\n",
              "      <th></th>\n",
              "      <th>0</th>\n",
              "      <th>1</th>\n",
              "      <th>2</th>\n",
              "      <th>3</th>\n",
              "    </tr>\n",
              "  </thead>\n",
              "  <tbody>\n",
              "    <tr>\n",
              "      <th>0</th>\n",
              "      <td>0.732811</td>\n",
              "      <td>0.072531</td>\n",
              "      <td>0.754313</td>\n",
              "      <td>0.777831</td>\n",
              "    </tr>\n",
              "    <tr>\n",
              "      <th>1</th>\n",
              "      <td>0.338448</td>\n",
              "      <td>0.187353</td>\n",
              "      <td>0.342561</td>\n",
              "      <td>0.131956</td>\n",
              "    </tr>\n",
              "    <tr>\n",
              "      <th>2</th>\n",
              "      <td>0.858309</td>\n",
              "      <td>0.258406</td>\n",
              "      <td>0.860777</td>\n",
              "      <td>0.535978</td>\n",
              "    </tr>\n",
              "    <tr>\n",
              "      <th>3</th>\n",
              "      <td>0.011438</td>\n",
              "      <td>0.739114</td>\n",
              "      <td>0.027379</td>\n",
              "      <td>0.472076</td>\n",
              "    </tr>\n",
              "    <tr>\n",
              "      <th>4</th>\n",
              "      <td>0.351688</td>\n",
              "      <td>0.592123</td>\n",
              "      <td>0.361021</td>\n",
              "      <td>0.834230</td>\n",
              "    </tr>\n",
              "  </tbody>\n",
              "</table>\n",
              "</div>"
            ],
            "text/plain": [
              "          0         1         2         3\n",
              "0  0.732811  0.072531  0.754313  0.777831\n",
              "1  0.338448  0.187353  0.342561  0.131956\n",
              "2  0.858309  0.258406  0.860777  0.535978\n",
              "3  0.011438  0.739114  0.027379  0.472076\n",
              "4  0.351688  0.592123  0.361021  0.834230"
            ]
          },
          "metadata": {},
          "execution_count": 3
        }
      ]
    },
    {
      "cell_type": "code",
      "metadata": {
        "id": "qWknwQRkSlz4"
      },
      "source": [
        "np.random.seed(25)\n",
        "w = np.random.randn(4)\n",
        "b = np.random.randn(1)"
      ],
      "execution_count": 4,
      "outputs": []
    },
    {
      "cell_type": "code",
      "metadata": {
        "id": "_tONOTTsSn5f"
      },
      "source": [
        "mse = []\n",
        "for alpha in np.arange(0, 10, 0.1):\n",
        "  w = np.linalg.inv(X.T @ X + alpha * np.identity(4)) @ X.T @ Y\n",
        "  mse.append((((X @ w.T + b) - Y) ** 2).mean())"
      ],
      "execution_count": 5,
      "outputs": []
    },
    {
      "cell_type": "code",
      "metadata": {
        "colab": {
          "base_uri": "https://localhost:8080/",
          "height": 265
        },
        "id": "KFMo9KyQSpJx",
        "outputId": "7f449ca2-dbb0-4d70-a57f-7bc0b752d8b7"
      },
      "source": [
        "dx = np.arange(0, 10, 0.1)\n",
        "plt.plot(dx, mse)\n",
        "\n",
        "plt.show()"
      ],
      "execution_count": 6,
      "outputs": [
        {
          "output_type": "display_data",
          "data": {
            "image/png": "[encoded data removed]",
            "text/plain": [
              "<Figure size 432x288 with 1 Axes>"
            ]
          },
          "metadata": {
            "needs_background": "light"
          }
        }
      ]
    },
    {
      "cell_type": "markdown",
      "metadata": {
        "id": "3Td_pXKAStAy"
      },
      "source": [
        "2.Подготовьте исходные данные для 5 fold CV."
      ]
    },
    {
      "cell_type": "code",
      "metadata": {
        "id": "bLsXrmSxSq7B"
      },
      "source": [
        "import random\n",
        "random.seed(25)"
      ],
      "execution_count": 7,
      "outputs": []
    },
    {
      "cell_type": "code",
      "metadata": {
        "id": "X58LY4ImSx6v"
      },
      "source": [
        "def KFold_split(size, num):\n",
        "  kfolds = []\n",
        "  fold_size = size // num\n",
        "  wh = np.arange(size)\n",
        "  for i in range(num):\n",
        "    index = np.random.choice(wh, fold_size, replace=False)\n",
        "    kfolds.append([index])\n",
        "    id_del = [np.where(wh == j) for j in index]\n",
        "    wh = np.delete(wh, id_del)\n",
        "  \n",
        "  train = []\n",
        "  test = []\n",
        "  cross_val={'train': train, 'test': test}\n",
        "  for i, testi in enumerate(kfolds):\n",
        "    train.append(kfolds[:i] + kfolds[i+1:])\n",
        "    test.append(testi)\n",
        "    \n",
        "  return cross_val"
      ],
      "execution_count": 8,
      "outputs": []
    },
    {
      "cell_type": "code",
      "metadata": {
        "id": "Ms82kC4iSzfW"
      },
      "source": [
        "kfold = KFold_split(1000, 5)"
      ],
      "execution_count": 9,
      "outputs": []
    },
    {
      "cell_type": "markdown",
      "metadata": {
        "id": "MhIoNiTkS11K"
      },
      "source": [
        "3.С помощью CV найдите оптимальное значение $\\alpha$ на какой-нибудь сетке значений.\n"
      ]
    },
    {
      "cell_type": "code",
      "metadata": {
        "id": "EroWtDmFS1Lt"
      },
      "source": [
        "import itertools"
      ],
      "execution_count": 10,
      "outputs": []
    },
    {
      "cell_type": "code",
      "metadata": {
        "colab": {
          "base_uri": "https://localhost:8080/"
        },
        "id": "fN8v8M9ZS50d",
        "outputId": "5a9e4200-dadd-48a8-e0fe-2b83dfc79c12"
      },
      "source": [
        "alpha_best = {}\n",
        "\n",
        "mse_train = []\n",
        "mse_test = []\n",
        "\n",
        "for alpha in np.arange(0, 20, 0.1):\n",
        "\n",
        "  w = np.random.randn(4)\n",
        "  b = np.random.randn(1)\n",
        "  mse_f = []\n",
        "\n",
        "  for j in range(5):\n",
        "    \n",
        "    tr_ind = np.concatenate(list(itertools.chain.from_iterable(kfold['train'][j])))\n",
        "    x_test = X[kfold['test'][j], :]\n",
        "    y_test = Y[kfold['test'][j]]\n",
        "    x_train = X[tr_ind, :]\n",
        "    y_train = Y[tr_ind]\n",
        "\n",
        "    w = np.linalg.inv(x_train.T @ x_train + alpha * np.identity(4)) @ x_train.T @ y_train\n",
        "    \n",
        "    mse_f.append((((x_test @ w.T + b) - y_test) ** 2).mean())\n",
        "\n",
        "\n",
        "  alpha_best[alpha] = np.array(mse_f).mean()"
      ],
      "execution_count": 11,
      "outputs": [
        {
          "output_type": "stream",
          "name": "stderr",
          "text": [
            "/usr/local/lib/python3.7/dist-packages/ipykernel_launcher.py:16: FutureWarning: Using a non-tuple sequence for multidimensional indexing is deprecated; use `arr[tuple(seq)]` instead of `arr[seq]`. In the future this will be interpreted as an array index, `arr[np.array(seq)]`, which will result either in an error or a different result.\n",
            "  app.launch_new_instance()\n"
          ]
        }
      ]
    },
    {
      "cell_type": "code",
      "metadata": {
        "colab": {
          "base_uri": "https://localhost:8080/"
        },
        "id": "0GOg726mS99l",
        "outputId": "bc59ea08-9f65-4b18-ee25-a61ca194a2b8"
      },
      "source": [
        "print(f'best alpha: {min(alpha_best, key=alpha_best.get)}')"
      ],
      "execution_count": 12,
      "outputs": [
        {
          "output_type": "stream",
          "name": "stdout",
          "text": [
            "best alpha: 0.1\n"
          ]
        }
      ]
    },
    {
      "cell_type": "markdown",
      "metadata": {
        "id": "KUhhZQIoTJGr"
      },
      "source": [
        "4.Постройте валидационную кривую. "
      ]
    },
    {
      "cell_type": "code",
      "metadata": {
        "colab": {
          "base_uri": "https://localhost:8080/"
        },
        "id": "cIK0HfiiS_1Q",
        "outputId": "930b52b5-c6d3-41ac-b930-9a0df4a16ea6"
      },
      "source": [
        "mse_tr = []\n",
        "mse_tst = []\n",
        "\n",
        "w = np.random.randn(4)\n",
        "b = np.random.randn(1)\n",
        "\n",
        "for alpha in np.arange(0, 20, 0.1):\n",
        "\n",
        "  \n",
        "  tr_ind = np.concatenate(list(itertools.chain.from_iterable(kfold['train'][0])))\n",
        "  x_test = X[kfold['test'][0], :]\n",
        "  y_test = Y[kfold['test'][0]]\n",
        "  x_train = X[tr_ind, :]\n",
        "  y_train = Y[tr_ind]\n",
        "\n",
        "  w = np.linalg.inv(x_train.T @ x_train + alpha * np.identity(4)) @ x_train.T @ y_train\n",
        "    \n",
        "  mse_tr.append((((x_train @ w.T + b) - y_train) ** 2).mean())\n",
        "\n",
        "  mse_tst.append((((x_test @ w.T + b) - y_test) ** 2).mean())"
      ],
      "execution_count": 13,
      "outputs": [
        {
          "output_type": "stream",
          "name": "stderr",
          "text": [
            "/usr/local/lib/python3.7/dist-packages/ipykernel_launcher.py:12: FutureWarning: Using a non-tuple sequence for multidimensional indexing is deprecated; use `arr[tuple(seq)]` instead of `arr[seq]`. In the future this will be interpreted as an array index, `arr[np.array(seq)]`, which will result either in an error or a different result.\n",
            "  if sys.path[0] == '':\n"
          ]
        }
      ]
    },
    {
      "cell_type": "code",
      "metadata": {
        "colab": {
          "base_uri": "https://localhost:8080/",
          "height": 265
        },
        "id": "xywQlPTETIcO",
        "outputId": "7f4b62cd-c7d6-48aa-8a7a-4e0c6c7f919d"
      },
      "source": [
        "dx = np.arange(0, 20, 0.1)\n",
        "plt.plot(dx, mse_tr, label='train')\n",
        "plt.plot(dx, mse_tst, label='test')\n",
        "plt.legend()\n",
        "\n",
        "plt.show()"
      ],
      "execution_count": 14,
      "outputs": [
        {
          "output_type": "display_data",
          "data": {
            "image/png": "[encoded data removed]",
            "text/plain": [
              "<Figure size 432x288 with 1 Axes>"
            ]
          },
          "metadata": {
            "needs_background": "light"
          }
        }
      ]
    },
    {
      "cell_type": "markdown",
      "metadata": {
        "id": "m4xLM2XxTRMM"
      },
      "source": [
        "5.Постройте кривую обучения."
      ]
    },
    {
      "cell_type": "code",
      "metadata": {
        "colab": {
          "base_uri": "https://localhost:8080/"
        },
        "id": "JzZtsWYcTP3H",
        "outputId": "0a8180e3-7dbc-48ee-dfad-16c212120ff8"
      },
      "source": [
        "mse_tr = []\n",
        "mse_tst = []\n",
        "alpha = 0.01\n",
        "\n",
        "w = np.random.randn(4)\n",
        "b = np.random.randn(1)\n",
        "tr_ind = np.concatenate(list(itertools.chain.from_iterable(kfold['train'][1])))\n",
        "\n",
        "for i in range(1, 9):\n",
        "\n",
        "  x_test = X[kfold['test'][1], :]\n",
        "  y_test = Y[kfold['test'][1]]\n",
        "  x_train = X[tr_ind[:i * 100], :]\n",
        "  y_train = Y[tr_ind[:i * 100]]\n",
        "\n",
        "  w = np.linalg.inv(x_train.T @ x_train + alpha * np.identity(4)) @ x_train.T @ y_train\n",
        "    \n",
        "  mse_tr.append((((x_train @ w.T + b) - y_train) ** 2).mean())\n",
        "\n",
        "  mse_tst.append((((x_test @ w.T + b) - y_test) ** 2).mean())"
      ],
      "execution_count": 15,
      "outputs": [
        {
          "output_type": "stream",
          "name": "stderr",
          "text": [
            "/usr/local/lib/python3.7/dist-packages/ipykernel_launcher.py:12: FutureWarning: Using a non-tuple sequence for multidimensional indexing is deprecated; use `arr[tuple(seq)]` instead of `arr[seq]`. In the future this will be interpreted as an array index, `arr[np.array(seq)]`, which will result either in an error or a different result.\n",
            "  if sys.path[0] == '':\n"
          ]
        }
      ]
    },
    {
      "cell_type": "code",
      "metadata": {
        "colab": {
          "base_uri": "https://localhost:8080/",
          "height": 265
        },
        "id": "Hy1fRSNnTUKZ",
        "outputId": "a3c4c8b6-0d93-43cf-e7fa-a41ace911c61"
      },
      "source": [
        "dx = np.arange(0, 800, 100)\n",
        "plt.plot(dx, mse_tr, label='train')\n",
        "plt.plot(dx, mse_tst, label='test')\n",
        "plt.legend()\n",
        "\n",
        "plt.show()"
      ],
      "execution_count": 16,
      "outputs": [
        {
          "output_type": "display_data",
          "data": {
            "image/png": "[encoded data removed]",
            "text/plain": [
              "<Figure size 432x288 with 1 Axes>"
            ]
          },
          "metadata": {
            "needs_background": "light"
          }
        }
      ]
    },
    {
      "cell_type": "code",
      "metadata": {
        "id": "JxgW3NH0TVtj"
      },
      "source": [
        ""
      ],
      "execution_count": 16,
      "outputs": []
    }
  ]
}